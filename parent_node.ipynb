{
 "cells": [
  {
   "cell_type": "code",
   "execution_count": 1,
   "id": "29689d38-9e1b-4c9b-903c-e67d2252b888",
   "metadata": {},
   "outputs": [
    {
     "name": "stdout",
     "output_type": "stream",
     "text": [
      "1\n"
     ]
    }
   ],
   "source": [
    "# Python3 implementation of\n",
    "# the above approach\n",
    "\n",
    "''' A binary tree node has data, pointer\n",
    "to left child and a pointer\n",
    "to right child '''\n",
    "class Node:\n",
    "\n",
    "\tdef __init__(self, data):\n",
    "\t\n",
    "\t\tself.data = data\n",
    "\t\tself.left = None\n",
    "\t\tself.right = None\n",
    "\n",
    "# Recursive function to find the\n",
    "# parent of the given node\n",
    "def findParent(node : Node,\n",
    "\t\t\tval : int,\n",
    "\t\t\tparent : int) -> None:\n",
    "\tif (node is None):\n",
    "\t\treturn\n",
    "\n",
    "\t# If current node is\n",
    "\t# the required node\n",
    "\tif (node.data == val):\n",
    "\t\n",
    "\t\t# Print its parent\n",
    "\t\tprint(parent)\n",
    "\telse:\n",
    "\t\n",
    "\t\t# Recursive calls\n",
    "\t\t# for the children\n",
    "\t\t# of the current node\n",
    "\t\t# Current node is now\n",
    "\t\t# the new parent\n",
    "\t\tfindParent(node.left,\n",
    "\t\t\t\tval, node.data)\n",
    "\t\tfindParent(node.right,\n",
    "\t\t\t\tval, node.data)\n",
    "\n",
    "# Driver code\n",
    "if __name__ == \"__main__\":\n",
    "\n",
    "\troot = Node(1)\n",
    "\troot.left = Node(2)\n",
    "\troot.right = Node(3)\n",
    "\troot.left.left = Node(4)\n",
    "\troot.left.right = Node(5)\n",
    "\tnode = 3\n",
    "\tfindParent(root, node, -1)\n",
    "\n",
    "# This code is contributed by sanjeev2552\n"
   ]
  },
  {
   "cell_type": "code",
   "execution_count": null,
   "id": "05637a61-bc26-4c99-a474-2d1d58f93f37",
   "metadata": {},
   "outputs": [],
   "source": []
  }
 ],
 "metadata": {
  "kernelspec": {
   "display_name": "Python 3",
   "language": "python",
   "name": "python3"
  },
  "language_info": {
   "codemirror_mode": {
    "name": "ipython",
    "version": 3
   },
   "file_extension": ".py",
   "mimetype": "text/x-python",
   "name": "python",
   "nbconvert_exporter": "python",
   "pygments_lexer": "ipython3",
   "version": "3.8.5"
  }
 },
 "nbformat": 4,
 "nbformat_minor": 5
}
