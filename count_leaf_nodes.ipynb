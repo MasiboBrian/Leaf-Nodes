{
 "cells": [
  {
   "cell_type": "code",
   "execution_count": 9,
   "id": "38601173-5d93-4b92-967c-ae879b27da60",
   "metadata": {},
   "outputs": [
    {
     "name": "stdout",
     "output_type": "stream",
     "text": [
      "3\n"
     ]
    }
   ],
   "source": [
    "# Python program to count leaf nodes in Binary Tree\n",
    "\n",
    "# A Binary tree node\n",
    "class Node:\n",
    "\t\n",
    "\t# Constructor to create a new node\n",
    "\tdef __init__(self, data):\n",
    "\t\tself.data = data\n",
    "\t\tself.left = None\n",
    "\t\tself.right = None\n",
    "\n",
    "# Function to get the count of leaf nodes in binary tree\n",
    "def getLeafCount(node):\n",
    "\tif node is None:\n",
    "\t\treturn 0\n",
    "\tif(node.left is None and node.right is None):\n",
    "\t\treturn 1\n",
    "\telse:\n",
    "\t\treturn getLeafCount(node.left) + getLeafCount(node.right)\n",
    "\n",
    "\n",
    "# Driver program to test above function\n",
    "root = Node(1)\n",
    "root.left = Node(2)\n",
    "root.right = Node(3)\n",
    "root.left.left = Node(4)\n",
    "root.left.right = Node(5)\n",
    "\n",
    "print (getLeafCount(root))\n"
   ]
  },
  {
   "cell_type": "code",
   "execution_count": null,
   "id": "b9d8fc8f-89b6-4f6b-8c60-e7d0effec432",
   "metadata": {},
   "outputs": [],
   "source": []
  },
  {
   "cell_type": "code",
   "execution_count": null,
   "id": "eb5fc4ce-14bd-4a97-9dd9-5863b9ff03cd",
   "metadata": {},
   "outputs": [],
   "source": []
  },
  {
   "cell_type": "code",
   "execution_count": null,
   "id": "52d8852a-4783-4708-86c9-06825d2bd6e9",
   "metadata": {},
   "outputs": [],
   "source": []
  },
  {
   "cell_type": "code",
   "execution_count": null,
   "id": "a920b826-0693-47a5-87f9-140129b36e6f",
   "metadata": {},
   "outputs": [],
   "source": []
  }
 ],
 "metadata": {
  "kernelspec": {
   "display_name": "Python 3",
   "language": "python",
   "name": "python3"
  },
  "language_info": {
   "codemirror_mode": {
    "name": "ipython",
    "version": 3
   },
   "file_extension": ".py",
   "mimetype": "text/x-python",
   "name": "python",
   "nbconvert_exporter": "python",
   "pygments_lexer": "ipython3",
   "version": "3.8.5"
  }
 },
 "nbformat": 4,
 "nbformat_minor": 5
}
