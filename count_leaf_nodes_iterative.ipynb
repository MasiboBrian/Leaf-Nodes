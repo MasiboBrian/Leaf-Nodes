{
 "cells": [
  {
   "cell_type": "code",
   "execution_count": 2,
   "id": "1b048248-a027-45b1-b440-28317808a67e",
   "metadata": {},
   "outputs": [
    {
     "name": "stdout",
     "output_type": "stream",
     "text": [
      "3\n"
     ]
    }
   ],
   "source": [
    "# Python3 program to count leaf nodes\n",
    "# in a Binary Tree\n",
    "from queue import Queue\n",
    "\n",
    "# Helper function that allocates a new\n",
    "# Node with the given data and None\n",
    "# left and right pointers.\n",
    "class newNode:\n",
    "\tdef __init__(self, data):\n",
    "\t\tself.data = data\n",
    "\t\tself.left = self.right = None\n",
    "\t\t\n",
    "# Function to get the count of leaf\n",
    "# Nodes in a binary tree\n",
    "def getItLeafCount(node):\n",
    "\t\n",
    "\t# If tree is empty\n",
    "\tif (not node):\n",
    "\t\treturn 0\n",
    "\n",
    "\t# Initialize empty queue.\n",
    "\tq = Queue()\n",
    "\n",
    "\t# Do level order traversal\n",
    "\t# starting from root\n",
    "\tcount = 0 # Initialize count of leaves\n",
    "\tq.put(node)\n",
    "\twhile (not q.empty()):\n",
    "\t\ttemp = q.queue[0]\n",
    "\t\tq.get()\n",
    "\n",
    "\t\tif (temp.left != None):\n",
    "\t\t\tq.put(temp.left)\n",
    "\t\tif (temp.right != None):\n",
    "\t\t\tq.put(temp.right)\n",
    "\t\tif (temp.left == None and\n",
    "\t\t\ttemp.right == None):\n",
    "\t\t\tcount += 1\n",
    "\treturn count\n",
    "\n",
    "# Driver Code\n",
    "if __name__ == '__main__':\n",
    "\n",
    "\troot = newNode(1)\n",
    "\troot.left = newNode(2)\n",
    "\troot.right = newNode(3)\n",
    "\troot.left.left = newNode(4)\n",
    "\troot.left.right = newNode(5)\n",
    "\n",
    "\t# get leaf count of the above\n",
    "\t# created tree\n",
    "\tprint(getItLeafCount(root))\n",
    "\n",
    "# This code is contributed by PranchalK\n"
   ]
  },
  {
   "cell_type": "code",
   "execution_count": null,
   "id": "273af0b4-4c0b-4459-be15-db28433f4558",
   "metadata": {},
   "outputs": [],
   "source": []
  }
 ],
 "metadata": {
  "kernelspec": {
   "display_name": "Python 3",
   "language": "python",
   "name": "python3"
  },
  "language_info": {
   "codemirror_mode": {
    "name": "ipython",
    "version": 3
   },
   "file_extension": ".py",
   "mimetype": "text/x-python",
   "name": "python",
   "nbconvert_exporter": "python",
   "pygments_lexer": "ipython3",
   "version": "3.8.5"
  }
 },
 "nbformat": 4,
 "nbformat_minor": 5
}
