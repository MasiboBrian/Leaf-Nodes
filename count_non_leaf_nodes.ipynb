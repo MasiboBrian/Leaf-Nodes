{
 "cells": [
  {
   "cell_type": "code",
   "execution_count": 2,
   "id": "64e3d904-fb6a-478e-8361-12fd3440bf84",
   "metadata": {},
   "outputs": [
    {
     "name": "stdout",
     "output_type": "stream",
     "text": [
      "2\n"
     ]
    }
   ],
   "source": [
    "# Python3 program to count total number of non-leaf nodes in a binary tree\n",
    "  \n",
    "# class that allocates a new node with the \n",
    "#given data and None left and right pointers. \n",
    "class newNode:\n",
    "    def __init__(self,data):\n",
    "        self.data = data \n",
    "        self.left = self.right = None\n",
    "  \n",
    "# Computes the number of non-leaf \n",
    "# nodes in a tree. \n",
    "def countNonleaf(root):\n",
    "      \n",
    "    # Base cases. \n",
    "    if (root == None or (root.left == None and \n",
    "                         root.right == None)): \n",
    "        return 0\n",
    "  \n",
    "    # If root is Not None and its one of  \n",
    "    # its child is also not None \n",
    "    return (1 + countNonleaf(root.left) + \n",
    "                countNonleaf(root.right))\n",
    "  \n",
    "# Driver Code\n",
    "if __name__ == '__main__':\n",
    "  \n",
    "    root = newNode(1) \n",
    "    root.left = newNode(2) \n",
    "    root.right = newNode(3) \n",
    "    root.left.left = newNode(4) \n",
    "    root.left.right = newNode(5) \n",
    "    print(countNonleaf(root))\n"
   ]
  },
  {
   "cell_type": "code",
   "execution_count": null,
   "id": "940fe3e8-4a10-4e45-b522-1bebe1312df6",
   "metadata": {},
   "outputs": [],
   "source": []
  }
 ],
 "metadata": {
  "kernelspec": {
   "display_name": "Python 3",
   "language": "python",
   "name": "python3"
  },
  "language_info": {
   "codemirror_mode": {
    "name": "ipython",
    "version": 3
   },
   "file_extension": ".py",
   "mimetype": "text/x-python",
   "name": "python",
   "nbconvert_exporter": "python",
   "pygments_lexer": "ipython3",
   "version": "3.8.5"
  }
 },
 "nbformat": 4,
 "nbformat_minor": 5
}
